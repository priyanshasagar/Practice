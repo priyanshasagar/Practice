{
 "cells": [
  {
   "cell_type": "code",
   "execution_count": 53,
   "id": "b42b3e7d",
   "metadata": {},
   "outputs": [],
   "source": [
    "import pandas as pd\n",
    "from sklearn.tree import DecisionTreeClassifier\n",
    "import joblib"
   ]
  },
  {
   "cell_type": "code",
   "execution_count": 54,
   "id": "b552d5f0",
   "metadata": {},
   "outputs": [],
   "source": [
    "music_data = pd.read_csv('music.csv')"
   ]
  },
  {
   "cell_type": "code",
   "execution_count": 55,
   "id": "20d449e2",
   "metadata": {},
   "outputs": [],
   "source": [
    "x = music_data.drop(columns=['genre'])\n",
    "y = music_data['genre']"
   ]
  },
  {
   "cell_type": "code",
   "execution_count": 56,
   "id": "92c260a3",
   "metadata": {},
   "outputs": [
    {
     "data": {
      "text/html": [
       "<style>#sk-container-id-7 {color: black;background-color: white;}#sk-container-id-7 pre{padding: 0;}#sk-container-id-7 div.sk-toggleable {background-color: white;}#sk-container-id-7 label.sk-toggleable__label {cursor: pointer;display: block;width: 100%;margin-bottom: 0;padding: 0.3em;box-sizing: border-box;text-align: center;}#sk-container-id-7 label.sk-toggleable__label-arrow:before {content: \"▸\";float: left;margin-right: 0.25em;color: #696969;}#sk-container-id-7 label.sk-toggleable__label-arrow:hover:before {color: black;}#sk-container-id-7 div.sk-estimator:hover label.sk-toggleable__label-arrow:before {color: black;}#sk-container-id-7 div.sk-toggleable__content {max-height: 0;max-width: 0;overflow: hidden;text-align: left;background-color: #f0f8ff;}#sk-container-id-7 div.sk-toggleable__content pre {margin: 0.2em;color: black;border-radius: 0.25em;background-color: #f0f8ff;}#sk-container-id-7 input.sk-toggleable__control:checked~div.sk-toggleable__content {max-height: 200px;max-width: 100%;overflow: auto;}#sk-container-id-7 input.sk-toggleable__control:checked~label.sk-toggleable__label-arrow:before {content: \"▾\";}#sk-container-id-7 div.sk-estimator input.sk-toggleable__control:checked~label.sk-toggleable__label {background-color: #d4ebff;}#sk-container-id-7 div.sk-label input.sk-toggleable__control:checked~label.sk-toggleable__label {background-color: #d4ebff;}#sk-container-id-7 input.sk-hidden--visually {border: 0;clip: rect(1px 1px 1px 1px);clip: rect(1px, 1px, 1px, 1px);height: 1px;margin: -1px;overflow: hidden;padding: 0;position: absolute;width: 1px;}#sk-container-id-7 div.sk-estimator {font-family: monospace;background-color: #f0f8ff;border: 1px dotted black;border-radius: 0.25em;box-sizing: border-box;margin-bottom: 0.5em;}#sk-container-id-7 div.sk-estimator:hover {background-color: #d4ebff;}#sk-container-id-7 div.sk-parallel-item::after {content: \"\";width: 100%;border-bottom: 1px solid gray;flex-grow: 1;}#sk-container-id-7 div.sk-label:hover label.sk-toggleable__label {background-color: #d4ebff;}#sk-container-id-7 div.sk-serial::before {content: \"\";position: absolute;border-left: 1px solid gray;box-sizing: border-box;top: 0;bottom: 0;left: 50%;z-index: 0;}#sk-container-id-7 div.sk-serial {display: flex;flex-direction: column;align-items: center;background-color: white;padding-right: 0.2em;padding-left: 0.2em;position: relative;}#sk-container-id-7 div.sk-item {position: relative;z-index: 1;}#sk-container-id-7 div.sk-parallel {display: flex;align-items: stretch;justify-content: center;background-color: white;position: relative;}#sk-container-id-7 div.sk-item::before, #sk-container-id-7 div.sk-parallel-item::before {content: \"\";position: absolute;border-left: 1px solid gray;box-sizing: border-box;top: 0;bottom: 0;left: 50%;z-index: -1;}#sk-container-id-7 div.sk-parallel-item {display: flex;flex-direction: column;z-index: 1;position: relative;background-color: white;}#sk-container-id-7 div.sk-parallel-item:first-child::after {align-self: flex-end;width: 50%;}#sk-container-id-7 div.sk-parallel-item:last-child::after {align-self: flex-start;width: 50%;}#sk-container-id-7 div.sk-parallel-item:only-child::after {width: 0;}#sk-container-id-7 div.sk-dashed-wrapped {border: 1px dashed gray;margin: 0 0.4em 0.5em 0.4em;box-sizing: border-box;padding-bottom: 0.4em;background-color: white;}#sk-container-id-7 div.sk-label label {font-family: monospace;font-weight: bold;display: inline-block;line-height: 1.2em;}#sk-container-id-7 div.sk-label-container {text-align: center;}#sk-container-id-7 div.sk-container {/* jupyter's `normalize.less` sets `[hidden] { display: none; }` but bootstrap.min.css set `[hidden] { display: none !important; }` so we also need the `!important` here to be able to override the default hidden behavior on the sphinx rendered scikit-learn.org. See: https://github.com/scikit-learn/scikit-learn/issues/21755 */display: inline-block !important;position: relative;}#sk-container-id-7 div.sk-text-repr-fallback {display: none;}</style><div id=\"sk-container-id-7\" class=\"sk-top-container\"><div class=\"sk-text-repr-fallback\"><pre>DecisionTreeClassifier()</pre><b>In a Jupyter environment, please rerun this cell to show the HTML representation or trust the notebook. <br />On GitHub, the HTML representation is unable to render, please try loading this page with nbviewer.org.</b></div><div class=\"sk-container\" hidden><div class=\"sk-item\"><div class=\"sk-estimator sk-toggleable\"><input class=\"sk-toggleable__control sk-hidden--visually\" id=\"sk-estimator-id-7\" type=\"checkbox\" checked><label for=\"sk-estimator-id-7\" class=\"sk-toggleable__label sk-toggleable__label-arrow\">DecisionTreeClassifier</label><div class=\"sk-toggleable__content\"><pre>DecisionTreeClassifier()</pre></div></div></div></div></div>"
      ],
      "text/plain": [
       "DecisionTreeClassifier()"
      ]
     },
     "execution_count": 56,
     "metadata": {},
     "output_type": "execute_result"
    }
   ],
   "source": [
    "model = DecisionTreeClassifier()\n",
    "model.fit(x, y)"
   ]
  },
  {
   "cell_type": "code",
   "execution_count": 57,
   "id": "e3e56737",
   "metadata": {},
   "outputs": [
    {
     "data": {
      "text/plain": [
       "['music-recommender.joblib']"
      ]
     },
     "execution_count": 57,
     "metadata": {},
     "output_type": "execute_result"
    }
   ],
   "source": [
    "joblib.dump(model, 'music-recommender.joblib')"
   ]
  },
  {
   "cell_type": "code",
   "execution_count": 59,
   "id": "c5bd120c",
   "metadata": {},
   "outputs": [],
   "source": [
    "model = joblib.load('music-recommender.joblib')"
   ]
  },
  {
   "cell_type": "code",
   "execution_count": 60,
   "id": "68960290",
   "metadata": {},
   "outputs": [
    {
     "name": "stderr",
     "output_type": "stream",
     "text": [
      "C:\\ProgramData\\anaconda3\\lib\\site-packages\\sklearn\\base.py:420: UserWarning: X does not have valid feature names, but DecisionTreeClassifier was fitted with feature names\n",
      "  warnings.warn(\n"
     ]
    },
    {
     "data": {
      "text/plain": [
       "array(['HipHop'], dtype=object)"
      ]
     },
     "execution_count": 60,
     "metadata": {},
     "output_type": "execute_result"
    }
   ],
   "source": [
    "predictions = model.predict([[21,1]])\n",
    "predictions"
   ]
  },
  {
   "cell_type": "code",
   "execution_count": 47,
   "id": "61f0a520",
   "metadata": {},
   "outputs": [
    {
     "data": {
      "text/plain": [
       "0.75"
      ]
     },
     "execution_count": 47,
     "metadata": {},
     "output_type": "execute_result"
    }
   ],
   "source": [
    "score = accuracy_score(y_test, predictions)\n",
    "score"
   ]
  },
  {
   "cell_type": "code",
   "execution_count": 48,
   "id": "4b2781e6",
   "metadata": {},
   "outputs": [
    {
     "data": {
      "text/html": [
       "<div>\n",
       "<style scoped>\n",
       "    .dataframe tbody tr th:only-of-type {\n",
       "        vertical-align: middle;\n",
       "    }\n",
       "\n",
       "    .dataframe tbody tr th {\n",
       "        vertical-align: top;\n",
       "    }\n",
       "\n",
       "    .dataframe thead th {\n",
       "        text-align: right;\n",
       "    }\n",
       "</style>\n",
       "<table border=\"1\" class=\"dataframe\">\n",
       "  <thead>\n",
       "    <tr style=\"text-align: right;\">\n",
       "      <th></th>\n",
       "      <th>age</th>\n",
       "      <th>gender</th>\n",
       "      <th>genre</th>\n",
       "    </tr>\n",
       "  </thead>\n",
       "  <tbody>\n",
       "    <tr>\n",
       "      <th>0</th>\n",
       "      <td>20</td>\n",
       "      <td>1</td>\n",
       "      <td>HipHop</td>\n",
       "    </tr>\n",
       "    <tr>\n",
       "      <th>1</th>\n",
       "      <td>23</td>\n",
       "      <td>1</td>\n",
       "      <td>HipHop</td>\n",
       "    </tr>\n",
       "    <tr>\n",
       "      <th>2</th>\n",
       "      <td>25</td>\n",
       "      <td>1</td>\n",
       "      <td>HipHop</td>\n",
       "    </tr>\n",
       "    <tr>\n",
       "      <th>3</th>\n",
       "      <td>26</td>\n",
       "      <td>1</td>\n",
       "      <td>Jazz</td>\n",
       "    </tr>\n",
       "    <tr>\n",
       "      <th>4</th>\n",
       "      <td>29</td>\n",
       "      <td>1</td>\n",
       "      <td>Jazz</td>\n",
       "    </tr>\n",
       "    <tr>\n",
       "      <th>5</th>\n",
       "      <td>30</td>\n",
       "      <td>1</td>\n",
       "      <td>Jazz</td>\n",
       "    </tr>\n",
       "    <tr>\n",
       "      <th>6</th>\n",
       "      <td>31</td>\n",
       "      <td>1</td>\n",
       "      <td>Classical</td>\n",
       "    </tr>\n",
       "    <tr>\n",
       "      <th>7</th>\n",
       "      <td>33</td>\n",
       "      <td>1</td>\n",
       "      <td>Classical</td>\n",
       "    </tr>\n",
       "    <tr>\n",
       "      <th>8</th>\n",
       "      <td>37</td>\n",
       "      <td>1</td>\n",
       "      <td>Classical</td>\n",
       "    </tr>\n",
       "    <tr>\n",
       "      <th>9</th>\n",
       "      <td>20</td>\n",
       "      <td>0</td>\n",
       "      <td>Dance</td>\n",
       "    </tr>\n",
       "    <tr>\n",
       "      <th>10</th>\n",
       "      <td>21</td>\n",
       "      <td>0</td>\n",
       "      <td>Dance</td>\n",
       "    </tr>\n",
       "    <tr>\n",
       "      <th>11</th>\n",
       "      <td>25</td>\n",
       "      <td>0</td>\n",
       "      <td>Dance</td>\n",
       "    </tr>\n",
       "    <tr>\n",
       "      <th>12</th>\n",
       "      <td>26</td>\n",
       "      <td>0</td>\n",
       "      <td>Acoustic</td>\n",
       "    </tr>\n",
       "    <tr>\n",
       "      <th>13</th>\n",
       "      <td>27</td>\n",
       "      <td>0</td>\n",
       "      <td>Acoustic</td>\n",
       "    </tr>\n",
       "    <tr>\n",
       "      <th>14</th>\n",
       "      <td>30</td>\n",
       "      <td>0</td>\n",
       "      <td>Acoustic</td>\n",
       "    </tr>\n",
       "    <tr>\n",
       "      <th>15</th>\n",
       "      <td>31</td>\n",
       "      <td>0</td>\n",
       "      <td>Classical</td>\n",
       "    </tr>\n",
       "    <tr>\n",
       "      <th>16</th>\n",
       "      <td>34</td>\n",
       "      <td>0</td>\n",
       "      <td>Classical</td>\n",
       "    </tr>\n",
       "    <tr>\n",
       "      <th>17</th>\n",
       "      <td>35</td>\n",
       "      <td>0</td>\n",
       "      <td>Classical</td>\n",
       "    </tr>\n",
       "  </tbody>\n",
       "</table>\n",
       "</div>"
      ],
      "text/plain": [
       "    age  gender      genre\n",
       "0    20       1     HipHop\n",
       "1    23       1     HipHop\n",
       "2    25       1     HipHop\n",
       "3    26       1       Jazz\n",
       "4    29       1       Jazz\n",
       "5    30       1       Jazz\n",
       "6    31       1  Classical\n",
       "7    33       1  Classical\n",
       "8    37       1  Classical\n",
       "9    20       0      Dance\n",
       "10   21       0      Dance\n",
       "11   25       0      Dance\n",
       "12   26       0   Acoustic\n",
       "13   27       0   Acoustic\n",
       "14   30       0   Acoustic\n",
       "15   31       0  Classical\n",
       "16   34       0  Classical\n",
       "17   35       0  Classical"
      ]
     },
     "execution_count": 48,
     "metadata": {},
     "output_type": "execute_result"
    }
   ],
   "source": [
    "music_data"
   ]
  },
  {
   "cell_type": "code",
   "execution_count": 151,
   "id": "178bfc42",
   "metadata": {},
   "outputs": [
    {
     "name": "stdout",
     "output_type": "stream",
     "text": [
      "Count: 50\n",
      "        \u001b[31m`\n",
      "       \u001b[37mW\u001b[33mW\u001b[37mY\n",
      "      \u001b[36m~\u001b[35m!\u001b[31mM\u001b[34m?\u001b[37m$\n",
      "     \u001b[31mT\u001b[36mY\u001b[37m+\u001b[31m~\u001b[33mH\u001b[37mT\u001b[30m@\n",
      "    \u001b[33m!\u001b[34m`\u001b[30mU\u001b[30m+\u001b[30m$\u001b[35mV\u001b[34m~\u001b[31m-\u001b[35mV\n",
      "   \u001b[34m!\u001b[33mO\u001b[30m#\u001b[31m^\u001b[31mV\u001b[34m+\u001b[35m#\u001b[31m`\u001b[32m$\u001b[32mT\u001b[31mV\n",
      "  \u001b[34m^\u001b[37m@\u001b[35m?\u001b[30mY\u001b[35m+\u001b[35mW\u001b[35m+\u001b[36mM\u001b[33mU\u001b[35m!\u001b[35mO\u001b[31mA\u001b[31mY\n",
      "      \u001b[36mW\u001b[36mA\u001b[36m^\u001b[36m^\u001b[36mO\n",
      "     \u001b[37m$\u001b[37m^\u001b[37mU\u001b[37m~\u001b[37m@\u001b[37mM\u001b[37m%\n",
      "    \u001b[37m`\u001b[37mV\u001b[37mA\u001b[37m?\u001b[37mO\u001b[37mU\u001b[37m?\u001b[37m#\u001b[37mW\n",
      "   \u001b[37m!\u001b[37m?\u001b[37m-\u001b[37m#\u001b[37mU\u001b[37mW\u001b[37m~\u001b[37m+\u001b[37m$\u001b[37m^\u001b[37m+\n",
      "  \u001b[33mY\u001b[33mY\u001b[33mH\u001b[33m#\u001b[33m%\u001b[33m^\u001b[33mO\u001b[33m+\u001b[33m$\u001b[33mW\u001b[33m+\u001b[33m%\u001b[33mV\n",
      " \u001b[32mO\u001b[32mM\u001b[32mV\u001b[32m%\u001b[32mY\u001b[32mM\u001b[32m+\u001b[32mA\u001b[32m%\u001b[32m~\u001b[32mY\u001b[32m!\u001b[32m$\u001b[32m!\u001b[32m#\n",
      "      \u001b[31mY\u001b[31mT\u001b[31m#\u001b[31mA\u001b[31m~\n",
      "     \u001b[31mY\u001b[31mT\u001b[31mO\u001b[31m!\u001b[31mM\u001b[31mA\u001b[31mW\n",
      "    \u001b[31mM\u001b[31m$\u001b[31m`\u001b[31mO\u001b[31m?\u001b[31mT\u001b[31m?\u001b[31m$\u001b[31mO\n",
      "   \u001b[31m@\u001b[31m`\u001b[31mO\u001b[31mV\u001b[31mA\u001b[31mO\u001b[31m`\u001b[31m!\u001b[31mA\u001b[31m-\u001b[31m*\n",
      "  \u001b[31m#\u001b[31m~\u001b[31m-\u001b[31m^\u001b[31mW\u001b[31m^\u001b[31m#\u001b[31mT\u001b[31m^\u001b[31mY\u001b[31mO\u001b[31mU\u001b[31m*\n",
      " \u001b[31m@\u001b[31mO\u001b[31m*\u001b[31mM\u001b[31m?\u001b[31m~\u001b[31m#\u001b[31mA\u001b[31m$\u001b[31m!\u001b[31mA\u001b[31m-\u001b[31m*\u001b[31mO\u001b[31m#\n",
      "\u001b[31m*\u001b[31m?\u001b[31mA\u001b[31m-\u001b[31mV\u001b[31m!\u001b[31m-\u001b[31m!\u001b[31mH\u001b[31m~\u001b[31m~\u001b[31m-\u001b[31m^\u001b[31mW\u001b[31m#\u001b[31mM\u001b[31mW\n",
      "\u001b[0m \u001b[0m \u001b[0m \u001b[0m \u001b[0m \u001b[40m \u001b[40m \u001b[40m \u001b[40m \u001b[40m \u001b[40m \n",
      "\u001b[0m \u001b[0m \u001b[0m \u001b[0m \u001b[0m \u001b[40m \u001b[40m \u001b[40m \u001b[40m \u001b[40m \u001b[40m \n",
      "\u001b[0m \u001b[0m \u001b[0m \u001b[0m \u001b[0m \u001b[40m \u001b[40m \u001b[40m \u001b[40m \u001b[40m \u001b[40m \n",
      "\u001b[0m \u001b[0m \u001b[0m \u001b[0m \u001b[0m \u001b[40m \u001b[40m \u001b[40m \u001b[40m \u001b[40m \u001b[40m \n",
      "\u001b[0m \u001b[0m \u001b[0m \u001b[0m \u001b[0m \u001b[40m \u001b[40m \u001b[40m \u001b[40m \u001b[40m \u001b[40m \n"
     ]
    }
   ],
   "source": [
    "import time\n",
    "from IPython.display import clear_output\n",
    "import colorama\n",
    "from colorama import Fore, Style, Back\n",
    "import random\n",
    "\n",
    "\n",
    "def clear():\n",
    "    clear_output(wait=True)\n",
    "\n",
    "\n",
    "def triangle(n):\n",
    "    colors=[Fore.BLACK,\n",
    "            Fore.RED,\n",
    "            Fore.GREEN,\n",
    "            Fore.YELLOW,\n",
    "            Fore.BLUE,\n",
    "            Fore.MAGENTA,\n",
    "            Fore.CYAN,\n",
    "            Fore.WHITE\n",
    "          ]\n",
    "    chars=['`','!','@','#','^','*', '-', '+', 'A', 'O', 'T', 'Y', '~', '$', '%', '?', 'H', 'U', 'W', 'V', 'M']\n",
    "    \n",
    "    for i in range (n-2):\n",
    "        print(' ' * (n-i-1), end='')\n",
    "        for j in range (0, i*2+1):\n",
    "            color=random.choice(colors)\n",
    "            print(f'{color}{random.choice(chars)}', end='')\n",
    "        print('')\n",
    "        \n",
    "    for i in range (2,n-1):\n",
    "        color=random.choice(colors)\n",
    "        print(' ' * (n-i-1), end='')\n",
    "        for j in range (0, i*2+1):\n",
    "            print(f'{color}{random.choice(chars)}', end='')\n",
    "        print('')\n",
    "        \n",
    "    color=random.choice(colors)   \n",
    "    for i in range (2,n):\n",
    "        print(' ' * (n-i-1), end='')\n",
    "        for j in range (0, i*2+1):\n",
    "            print(f'{color}{random.choice(chars)}', end='')\n",
    "        print('')\n",
    "    \n",
    "    trunk_size=int((n*2-1)/3)\n",
    "    for i in range(int(n/2)+1):\n",
    "        print(f'{Style.RESET_ALL} ' * trunk_size, end='')\n",
    "        if (n*2-1)%3==0:\n",
    "            print(f'{Back.BLACK} ' * (trunk_size))\n",
    "        else:\n",
    "            print(f'{Back.BLACK} ' * (trunk_size+1))\n",
    "\n",
    "n=int(input(\"Number of lines: \"))\n",
    "for i in range(50):\n",
    "    clear()\n",
    "    print(f'Count: {i+1}')\n",
    "    triangle(n)\n",
    "    time.sleep(0.3)\n",
    "    "
   ]
  },
  {
   "cell_type": "code",
   "execution_count": null,
   "id": "2bf74689",
   "metadata": {},
   "outputs": [],
   "source": []
  },
  {
   "cell_type": "code",
   "execution_count": null,
   "id": "9213ead4",
   "metadata": {},
   "outputs": [],
   "source": []
  }
 ],
 "metadata": {
  "kernelspec": {
   "display_name": "Python 3 (ipykernel)",
   "language": "python",
   "name": "python3"
  },
  "language_info": {
   "codemirror_mode": {
    "name": "ipython",
    "version": 3
   },
   "file_extension": ".py",
   "mimetype": "text/x-python",
   "name": "python",
   "nbconvert_exporter": "python",
   "pygments_lexer": "ipython3",
   "version": "3.10.9"
  }
 },
 "nbformat": 4,
 "nbformat_minor": 5
}
